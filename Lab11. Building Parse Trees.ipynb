{
 "cells": [
  {
   "cell_type": "raw",
   "metadata": {},
   "source": [
    "225229124"
   ]
  },
  {
   "cell_type": "markdown",
   "metadata": {},
   "source": [
    "### Exercise-1"
   ]
  },
  {
   "cell_type": "code",
   "execution_count": 1,
   "metadata": {},
   "outputs": [],
   "source": [
    "import nltk,re,pprint\n",
    "from nltk.tree import Tree\n",
    "from nltk.tokenize import word_tokenize\n",
    "from nltk.tag import pos_tag\n",
    "from nltk.chunk import ne_chunk\n",
    "import numpy as npt"
   ]
  },
  {
   "cell_type": "code",
   "execution_count": 2,
   "metadata": {},
   "outputs": [
    {
     "name": "stdout",
     "output_type": "stream",
     "text": [
      "  NP \n",
      "  |   \n",
      "  N  \n",
      "  |   \n",
      "Marge\n",
      "\n"
     ]
    }
   ],
   "source": [
    "np= nltk.Tree.fromstring('(NP (N Marge))')\n",
    "np.pretty_print()"
   ]
  },
  {
   "cell_type": "code",
   "execution_count": 3,
   "metadata": {},
   "outputs": [
    {
     "name": "stdout",
     "output_type": "stream",
     "text": [
      "          VP             \n",
      "  ________|___            \n",
      " |            NP         \n",
      " |     _______|_____      \n",
      " V   DET      N     N    \n",
      " |    |       |     |     \n",
      "make  a      ham sandwich\n",
      "\n"
     ]
    }
   ],
   "source": [
    "vp= nltk.Tree.fromstring('(VP (V make) (NP (DET a) (N ham) (N sandwich)))')\n",
    "vp.pretty_print()"
   ]
  },
  {
   "cell_type": "code",
   "execution_count": 4,
   "metadata": {},
   "outputs": [
    {
     "name": "stdout",
     "output_type": "stream",
     "text": [
      "AUX \n",
      " |   \n",
      "will\n",
      "\n"
     ]
    }
   ],
   "source": [
    "aux= nltk.Tree.fromstring('(AUX will)')\n",
    "aux.pretty_print()"
   ]
  },
  {
   "cell_type": "markdown",
   "metadata": {},
   "source": [
    "### Exercise 2\n",
    "Create a parse tree for the phrase old men and women. Is it well formed sentence or ambiguous sentence?. Steps:\n",
    "1. Define the grammar (use fromstring() method)\n",
    "2. Create sentence (as a list of words)\n",
    "3. Create chart parser\n",
    "4. Parse and print tree(s)"
   ]
  },
  {
   "cell_type": "code",
   "execution_count": 5,
   "metadata": {},
   "outputs": [
    {
     "name": "stdout",
     "output_type": "stream",
     "text": [
      "         NP           \n",
      "  _______|___          \n",
      " |           NP       \n",
      " |    _______|_____    \n",
      "Adj  N      Conj   N  \n",
      " |   |       |     |   \n",
      "old men     and  women\n",
      "\n"
     ]
    }
   ],
   "source": [
    "tree = nltk.Tree.fromstring('(NP (Adj old) (NP (N men) (Conj and) (N women)))')\n",
    "tree.pretty_print()"
   ]
  },
  {
   "cell_type": "markdown",
   "metadata": {},
   "source": [
    "### Exercise 3"
   ]
  },
  {
   "cell_type": "code",
   "execution_count": 6,
   "metadata": {
    "scrolled": true
   },
   "outputs": [
    {
     "name": "stdout",
     "output_type": "stream",
     "text": [
      "            S                        \n",
      "   _________|________                 \n",
      "  |    |             VP              \n",
      "  |    |     ________|___             \n",
      "  NP   |    |            NP          \n",
      "  |    |    |     _______|______      \n",
      "  N   AUX   V   DET      N      N    \n",
      "  |    |    |    |       |      |     \n",
      "Marge will make  a      ham sandwitch\n",
      "\n"
     ]
    }
   ],
   "source": [
    "s1= nltk.Tree.fromstring('(S (NP (N Marge)) (AUX will) (VP (V make) (NP (DET a) (N ham) (N sandwitch))))')\n",
    "s1.pretty_print()"
   ]
  },
  {
   "cell_type": "code",
   "execution_count": 7,
   "metadata": {},
   "outputs": [
    {
     "name": "stdout",
     "output_type": "stream",
     "text": [
      "            S                        \n",
      "  __________|________                 \n",
      " |     |             VP              \n",
      " |     |     ________|___             \n",
      " |     NP   |            NP          \n",
      " |     |    |     _______|______      \n",
      "AUX    N    V   DET      N      N    \n",
      " |     |    |    |       |      |     \n",
      "will Marge make  a      ham sandwitch\n",
      "\n"
     ]
    }
   ],
   "source": [
    "s2= nltk.Tree.fromstring('(S (AUX will) (NP (N Marge)) (VP (V make) (NP (DET a) (N ham) (N sandwitch))))')\n",
    "s2.pretty_print()"
   ]
  },
  {
   "cell_type": "markdown",
   "metadata": {},
   "source": [
    "### Exercise-4"
   ]
  },
  {
   "cell_type": "code",
   "execution_count": 8,
   "metadata": {},
   "outputs": [
    {
     "name": "stdout",
     "output_type": "stream",
     "text": [
      "       S                                 \n",
      "   ____|____________                      \n",
      "  |                 VP                   \n",
      "  |     ____________|________             \n",
      "  |    |       |             PP          \n",
      "  |    |       |          ___|___         \n",
      "  |    |       NP        |       NP      \n",
      "  |    |    ___|____     |    ___|____    \n",
      "  NP   |  DET       N    |  DET       N  \n",
      "  |    |   |        |    |   |        |   \n",
      "Homer ate the     donut  on the     table\n",
      "\n"
     ]
    }
   ],
   "source": [
    "s3= nltk.Tree.fromstring('(S (NP Homer) (VP ate (NP (DET the) (N donut)) (PP on (NP (DET the) (N table)))))')\n",
    "s3.pretty_print()"
   ]
  },
  {
   "cell_type": "markdown",
   "metadata": {},
   "source": [
    "### Exercise-5"
   ]
  },
  {
   "cell_type": "code",
   "execution_count": 9,
   "metadata": {
    "scrolled": false
   },
   "outputs": [
    {
     "name": "stdout",
     "output_type": "stream",
     "text": [
      "         S                      \n",
      "      ___|________               \n",
      "     |            VP            \n",
      "     |        ____|___           \n",
      "     |       |        PP        \n",
      "     |       |     ___|_____     \n",
      "     NP      |    |         NP  \n",
      "  ___|___    |    |         |    \n",
      " my old cat died  on     tuesday\n",
      "\n"
     ]
    }
   ],
   "source": [
    "s4= nltk.Tree.fromstring('(S (NP my old cat) (VP died (PP on (NP tuesday))))')\n",
    "s4.pretty_print()"
   ]
  },
  {
   "cell_type": "code",
   "execution_count": 10,
   "metadata": {},
   "outputs": [
    {
     "name": "stdout",
     "output_type": "stream",
     "text": [
      "                    S                         \n",
      "    ________________|___                       \n",
      "   |      |             VP                    \n",
      "   |      |     ________|____                  \n",
      "   |      |    |             PP               \n",
      "   |      |    |     ________|_____            \n",
      "   |      |    |    |   |          PP         \n",
      "   |      |    |    |   |     _____|______     \n",
      "   NP     |    VP   |   NP   |     NP     NP  \n",
      "   |      |    |    |   |    |     |      |    \n",
      "   N     AUX   V    P   N    P    DET     N   \n",
      "   |      |    |    |   |    |     |      |    \n",
      "children must play  in park with thier friends\n",
      "\n"
     ]
    }
   ],
   "source": [
    "s5= nltk.Tree.fromstring('(S (NP (N children)) (AUX must) (VP (VP (V play)) (PP (P in) (NP (N park))(PP (P with) (NP (DET thier)) (NP (N friends))))))')\n",
    "s5.pretty_print()"
   ]
  },
  {
   "cell_type": "markdown",
   "metadata": {},
   "source": [
    "### Exercise 6"
   ]
  },
  {
   "cell_type": "code",
   "execution_count": 11,
   "metadata": {},
   "outputs": [
    {
     "name": "stdout",
     "output_type": "stream",
     "text": [
      "(VP (V make) (NP (DET a) (N ham) (N sandwich)))\n"
     ]
    }
   ],
   "source": [
    "print(vp)"
   ]
  },
  {
   "cell_type": "code",
   "execution_count": 12,
   "metadata": {},
   "outputs": [
    {
     "data": {
      "text/plain": [
       "[VP -> V NP,\n",
       " V -> 'make',\n",
       " NP -> DET N N,\n",
       " DET -> 'a',\n",
       " N -> 'ham',\n",
       " N -> 'sandwich']"
      ]
     },
     "execution_count": 12,
     "metadata": {},
     "output_type": "execute_result"
    }
   ],
   "source": [
    "vp_rules= vp.productions() # list of all CF rules used in the tree\n",
    "vp_rules"
   ]
  },
  {
   "cell_type": "code",
   "execution_count": 13,
   "metadata": {},
   "outputs": [
    {
     "data": {
      "text/plain": [
       "VP -> V NP"
      ]
     },
     "execution_count": 13,
     "metadata": {},
     "output_type": "execute_result"
    }
   ],
   "source": [
    "vp_rules[0]"
   ]
  },
  {
   "cell_type": "code",
   "execution_count": 14,
   "metadata": {},
   "outputs": [
    {
     "data": {
      "text/plain": [
       "V -> 'make'"
      ]
     },
     "execution_count": 14,
     "metadata": {},
     "output_type": "execute_result"
    }
   ],
   "source": [
    "vp_rules[1]"
   ]
  },
  {
   "cell_type": "code",
   "execution_count": 15,
   "metadata": {},
   "outputs": [
    {
     "data": {
      "text/plain": [
       "False"
      ]
     },
     "execution_count": 15,
     "metadata": {},
     "output_type": "execute_result"
    }
   ],
   "source": [
    "vp_rules[0].is_lexical()"
   ]
  },
  {
   "cell_type": "code",
   "execution_count": 16,
   "metadata": {},
   "outputs": [
    {
     "data": {
      "text/plain": [
       "True"
      ]
     },
     "execution_count": 16,
     "metadata": {},
     "output_type": "execute_result"
    }
   ],
   "source": [
    "vp_rules[1].is_lexical()"
   ]
  },
  {
   "cell_type": "markdown",
   "metadata": {},
   "source": [
    "### Explore the CF rules of s5"
   ]
  },
  {
   "cell_type": "code",
   "execution_count": 17,
   "metadata": {},
   "outputs": [
    {
     "name": "stdout",
     "output_type": "stream",
     "text": [
      "(S\n",
      "  (NP (N children))\n",
      "  (AUX must)\n",
      "  (VP\n",
      "    (VP (V play))\n",
      "    (PP\n",
      "      (P in)\n",
      "      (NP (N park))\n",
      "      (PP (P with) (NP (DET thier)) (NP (N friends))))))\n"
     ]
    }
   ],
   "source": [
    "print(s5)"
   ]
  },
  {
   "cell_type": "code",
   "execution_count": 18,
   "metadata": {},
   "outputs": [
    {
     "data": {
      "text/plain": [
       "[S -> NP AUX VP,\n",
       " NP -> N,\n",
       " N -> 'children',\n",
       " AUX -> 'must',\n",
       " VP -> VP PP,\n",
       " VP -> V,\n",
       " V -> 'play',\n",
       " PP -> P NP PP,\n",
       " P -> 'in',\n",
       " NP -> N,\n",
       " N -> 'park',\n",
       " PP -> P NP NP,\n",
       " P -> 'with',\n",
       " NP -> DET,\n",
       " DET -> 'thier',\n",
       " NP -> N,\n",
       " N -> 'friends']"
      ]
     },
     "execution_count": 18,
     "metadata": {},
     "output_type": "execute_result"
    }
   ],
   "source": [
    "s5_rules= s5.productions()\n",
    "s5_rules"
   ]
  },
  {
   "cell_type": "code",
   "execution_count": 19,
   "metadata": {
    "scrolled": true
   },
   "outputs": [
    {
     "name": "stdout",
     "output_type": "stream",
     "text": [
      "How many CF values are used in s5  17\n"
     ]
    }
   ],
   "source": [
    " print(\"How many CF values are used in s5 \",len(s5_rules))"
   ]
  },
  {
   "cell_type": "code",
   "execution_count": 20,
   "metadata": {},
   "outputs": [
    {
     "name": "stdout",
     "output_type": "stream",
     "text": [
      "How many unique CF rules are used in s5  15\n"
     ]
    }
   ],
   "source": [
    "x= npt.array(s5_rules)\n",
    "print(\"How many unique CF rules are used in s5 \",len(npt.unique(x)))"
   ]
  },
  {
   "cell_type": "code",
   "execution_count": 21,
   "metadata": {},
   "outputs": [
    {
     "name": "stdout",
     "output_type": "stream",
     "text": [
      "How many of them are lexical?  8\n"
     ]
    }
   ],
   "source": [
    "n= 0\n",
    "for x in s5_rules:\n",
    "    if x.is_lexical():\n",
    "        n= n+1\n",
    "print(\"How many of them are lexical? \",n)"
   ]
  }
 ],
 "metadata": {
  "kernelspec": {
   "display_name": "Python 3 (ipykernel)",
   "language": "python",
   "name": "python3"
  },
  "language_info": {
   "codemirror_mode": {
    "name": "ipython",
    "version": 3
   },
   "file_extension": ".py",
   "mimetype": "text/x-python",
   "name": "python",
   "nbconvert_exporter": "python",
   "pygments_lexer": "ipython3",
   "version": "3.9.13"
  }
 },
 "nbformat": 4,
 "nbformat_minor": 2
}
