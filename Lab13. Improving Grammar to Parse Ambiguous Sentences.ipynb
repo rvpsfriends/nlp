{
 "cells": [
  {
   "cell_type": "raw",
   "id": "20d1752d",
   "metadata": {},
   "source": [
    "PRAGADEESH M\n",
    "225229126"
   ]
  },
  {
   "cell_type": "code",
   "execution_count": 1,
   "id": "f42193f4",
   "metadata": {},
   "outputs": [],
   "source": [
    "import nltk\n",
    "from nltk.tree import Tree\n",
    "from nltk.tokenize import word_tokenize\n",
    "from IPython.display import display\n",
    "import nltk,re,pprint\n",
    "from nltk.tag import pos_tag\n",
    "from nltk.chunk import ne_chunk\n",
    "import numpy as npt"
   ]
  },
  {
   "cell_type": "markdown",
   "id": "d59e13c2",
   "metadata": {},
   "source": [
    "### Exercise 1 : "
   ]
  },
  {
   "cell_type": "code",
   "execution_count": 2,
   "id": "ebf5382b",
   "metadata": {},
   "outputs": [],
   "source": [
    "Grammar_1 = nltk.CFG.fromstring(\"\"\"\n",
    "S -> NP VP | NP VP \n",
    "NP -> N | Det N | PRO | N N \n",
    "VP -> V NP CP | VP ADVP | V NP \n",
    "ADVP -> ADV ADV \n",
    "CP -> COMP S \n",
    "N -> 'Lisa' | 'brother' | 'peanut' | 'butter' \n",
    "V -> 'told' | 'liked' \n",
    "COMP -> 'that' \n",
    "Det -> 'her' \n",
    "PRO -> 'she' \n",
    "ADV -> 'very' | 'much'\n",
    "S -> NP VP \n",
    "NP -> NP CONJ NP | N | NP PP | Det N | N | Det N \n",
    "VP -> VP PP | VP CONJ VP | V | V \n",
    "PP -> P NP | P NP \n",
    "N -> 'Homer' | 'friends' | 'work' | 'bar' \n",
    "V -> 'drank' | 'sang' \n",
    "CONJ -> 'and' | 'and'\n",
    "Det -> 'his' | 'the'\n",
    "P -> 'from' | 'in'\n",
    "S -> NP VP \n",
    "NP -> NP CONJ NP | N | N \n",
    "VP -> V ADJP \n",
    "ADJP -> ADJP CONJ ADJP | ADJ | ADV ADJ \n",
    "N -> 'Homer' | 'Marge' \n",
    "V -> 'are' \n",
    "CONJ -> 'and' | 'but'\n",
    "ADJ -> 'poor' | 'happy'\n",
    "ADV -> 'very'\n",
    "S -> NP VP | NP AUX VP \n",
    "NP -> PRO | NP CP | Det N | PRO | PRO | PRO | N |Det N\n",
    "VP -> V NP PP | V NP NP\n",
    "CP -> COMP S\n",
    "PP -> P NP \n",
    "Det -> 'the' | 'his' \n",
    "PRO -> 'he' | 'I' | 'him' \n",
    "N -> 'book' | 't' | 'sister' \n",
    "V -> 'gave' | 'given' \n",
    "COMP -> 'that'\n",
    "AUX -> 'had' \n",
    "P -> 'to'\n",
    "S -> NP VP\n",
    "NP -> PRO | Det N | Det N\n",
    "VP -> V NP PP\n",
    "PP -> P NP \n",
    "Det -> 'the' | 'his'\n",
    "PRO -> 'he' \n",
    "N -> 'book' | 'sister' \n",
    "V -> 'gave' \n",
    "P -> 'to'\n",
    "S -> NP VP\n",
    "NP -> Det ADJ N | Det ADJ ADJ N | N\n",
    "VP -> V NP|VP PP\n",
    "PP -> P NP \n",
    "Det -> 'the' | 'the'\n",
    "ADJ -> 'big' | 'tiny' | 'nerdy'\n",
    "N -> 'bully' | 'kid' | 'school'\n",
    "V -> 'punched'\n",
    "P -> 'after'\n",
    "\"\"\")"
   ]
  },
  {
   "cell_type": "code",
   "execution_count": 3,
   "id": "207858ab",
   "metadata": {},
   "outputs": [
    {
     "data": {
      "text/plain": [
       "<Grammar with 120 productions>"
      ]
     },
     "execution_count": 3,
     "metadata": {},
     "output_type": "execute_result"
    }
   ],
   "source": [
    "Grammar_1"
   ]
  },
  {
   "cell_type": "markdown",
   "id": "eccaed1f",
   "metadata": {},
   "source": [
    "1. Examine the parser output from the previous lab. Is any of the sentences ambiguous, that is, has more than one parse tree? Pick an example and provide an explanation."
   ]
  },
  {
   "cell_type": "markdown",
   "id": "8614ff53",
   "metadata": {},
   "source": [
    "Yes! here we have two sentences which has more than one parse tree\n",
    "\n",
    "1.Homer and his friends from work drank and sang in the bar\n",
    "\n",
    "2.Lisa told her brother that she liked peanut butter very much"
   ]
  },
  {
   "cell_type": "code",
   "execution_count": 4,
   "id": "a8922e4c",
   "metadata": {},
   "outputs": [
    {
     "name": "stderr",
     "output_type": "stream",
     "text": [
      "[nltk_data] Downloading package punkt to\n",
      "[nltk_data]     C:\\Users\\8mpra\\AppData\\Roaming\\nltk_data...\n",
      "[nltk_data]   Package punkt is already up-to-date!\n"
     ]
    },
    {
     "data": {
      "text/plain": [
       "True"
      ]
     },
     "execution_count": 4,
     "metadata": {},
     "output_type": "execute_result"
    }
   ],
   "source": [
    "import nltk\n",
    "nltk.download('punkt')"
   ]
  },
  {
   "cell_type": "code",
   "execution_count": 5,
   "id": "1f9659e2",
   "metadata": {},
   "outputs": [
    {
     "name": "stdout",
     "output_type": "stream",
     "text": [
      "(S\n",
      "  (NP\n",
      "    (NP (NP (N Homer)) (CONJ and) (NP (Det his) (N friends)))\n",
      "    (PP (P from) (NP (N work))))\n",
      "  (VP\n",
      "    (VP (VP (V drank)) (CONJ and) (VP (V sang)))\n",
      "    (PP (P in) (NP (Det the) (N bar)))))\n",
      "(S\n",
      "  (NP\n",
      "    (NP (N Homer))\n",
      "    (CONJ and)\n",
      "    (NP (NP (Det his) (N friends)) (PP (P from) (NP (N work)))))\n",
      "  (VP\n",
      "    (VP (VP (V drank)) (CONJ and) (VP (V sang)))\n",
      "    (PP (P in) (NP (Det the) (N bar)))))\n",
      "(S\n",
      "  (NP\n",
      "    (NP (NP (N Homer)) (CONJ and) (NP (Det his) (N friends)))\n",
      "    (PP (P from) (NP (N work))))\n",
      "  (VP\n",
      "    (VP (V drank))\n",
      "    (CONJ and)\n",
      "    (VP (VP (V sang)) (PP (P in) (NP (Det the) (N bar))))))\n",
      "(S\n",
      "  (NP\n",
      "    (NP (N Homer))\n",
      "    (CONJ and)\n",
      "    (NP (NP (Det his) (N friends)) (PP (P from) (NP (N work)))))\n",
      "  (VP\n",
      "    (VP (V drank))\n",
      "    (CONJ and)\n",
      "    (VP (VP (V sang)) (PP (P in) (NP (Det the) (N bar))))))\n"
     ]
    }
   ],
   "source": [
    "sentence5 = word_tokenize(\"Homer and his friends from work drank and sang in the bar\")\n",
    "par = nltk.ChartParser(Grammar_1)\n",
    "for i in par.parse(sentence5):\n",
    " print(i)"
   ]
  },
  {
   "cell_type": "code",
   "execution_count": 6,
   "id": "a9af352f",
   "metadata": {
    "scrolled": false
   },
   "outputs": [
    {
     "name": "stdout",
     "output_type": "stream",
     "text": [
      "(S\n",
      "  (NP (N Lisa))\n",
      "  (VP\n",
      "    (V told)\n",
      "    (NP (Det her) (N brother))\n",
      "    (CP\n",
      "      (COMP that)\n",
      "      (S\n",
      "        (NP (PRO she))\n",
      "        (VP\n",
      "          (VP (V liked) (NP (N peanut) (N butter)))\n",
      "          (ADVP (ADV very) (ADV much)))))))\n",
      "(S\n",
      "  (NP (N Lisa))\n",
      "  (VP\n",
      "    (V told)\n",
      "    (NP (Det her) (N brother))\n",
      "    (CP\n",
      "      (COMP that)\n",
      "      (S\n",
      "        (NP (PRO she))\n",
      "        (VP\n",
      "          (VP (V liked) (NP (N peanut)) (NP (N butter)))\n",
      "          (ADVP (ADV very) (ADV much)))))))\n",
      "(S\n",
      "  (NP (N Lisa))\n",
      "  (VP\n",
      "    (V told)\n",
      "    (NP\n",
      "      (NP (Det her) (N brother))\n",
      "      (CP\n",
      "        (COMP that)\n",
      "        (S\n",
      "          (NP (PRO she))\n",
      "          (VP\n",
      "            (VP (V liked) (NP (N peanut) (N butter)))\n",
      "            (ADVP (ADV very) (ADV much))))))))\n",
      "(S\n",
      "  (NP (N Lisa))\n",
      "  (VP\n",
      "    (V told)\n",
      "    (NP\n",
      "      (NP (Det her) (N brother))\n",
      "      (CP\n",
      "        (COMP that)\n",
      "        (S\n",
      "          (NP (PRO she))\n",
      "          (VP\n",
      "            (VP (V liked) (NP (N peanut)) (NP (N butter)))\n",
      "            (ADVP (ADV very) (ADV much))))))))\n",
      "(S\n",
      "  (NP (N Lisa))\n",
      "  (VP\n",
      "    (VP\n",
      "      (V told)\n",
      "      (NP\n",
      "        (NP (Det her) (N brother))\n",
      "        (CP (COMP that) (S (NP (PRO she)) (VP (V liked)))))\n",
      "      (NP (N peanut) (N butter)))\n",
      "    (ADVP (ADV very) (ADV much))))\n",
      "(S\n",
      "  (NP (N Lisa))\n",
      "  (VP\n",
      "    (VP\n",
      "      (V told)\n",
      "      (NP\n",
      "        (NP (Det her) (N brother))\n",
      "        (CP\n",
      "          (COMP that)\n",
      "          (S (NP (PRO she)) (VP (V liked) (NP (N peanut))))))\n",
      "      (NP (N butter)))\n",
      "    (ADVP (ADV very) (ADV much))))\n",
      "(S\n",
      "  (NP (N Lisa))\n",
      "  (VP\n",
      "    (VP\n",
      "      (V told)\n",
      "      (NP (Det her) (N brother))\n",
      "      (CP\n",
      "        (COMP that)\n",
      "        (S (NP (PRO she)) (VP (V liked) (NP (N peanut) (N butter))))))\n",
      "    (ADVP (ADV very) (ADV much))))\n",
      "(S\n",
      "  (NP (N Lisa))\n",
      "  (VP\n",
      "    (VP\n",
      "      (V told)\n",
      "      (NP (Det her) (N brother))\n",
      "      (CP\n",
      "        (COMP that)\n",
      "        (S\n",
      "          (NP (PRO she))\n",
      "          (VP (V liked) (NP (N peanut)) (NP (N butter))))))\n",
      "    (ADVP (ADV very) (ADV much))))\n",
      "(S\n",
      "  (NP (N Lisa))\n",
      "  (VP\n",
      "    (VP\n",
      "      (V told)\n",
      "      (NP\n",
      "        (NP (Det her) (N brother))\n",
      "        (CP\n",
      "          (COMP that)\n",
      "          (S\n",
      "            (NP (PRO she))\n",
      "            (VP (V liked) (NP (N peanut) (N butter)))))))\n",
      "    (ADVP (ADV very) (ADV much))))\n",
      "(S\n",
      "  (NP (N Lisa))\n",
      "  (VP\n",
      "    (VP\n",
      "      (V told)\n",
      "      (NP\n",
      "        (NP (Det her) (N brother))\n",
      "        (CP\n",
      "          (COMP that)\n",
      "          (S\n",
      "            (NP (PRO she))\n",
      "            (VP (V liked) (NP (N peanut)) (NP (N butter)))))))\n",
      "    (ADVP (ADV very) (ADV much))))\n"
     ]
    }
   ],
   "source": [
    "sentence6 = word_tokenize(\"Lisa told her brother that she liked peanut butter very much\")\n",
    "par = nltk.ChartParser(Grammar_1)\n",
    "for i in par.parse(sentence6):\n",
    "    print(i)"
   ]
  },
  {
   "cell_type": "markdown",
   "id": "4eb9c46e",
   "metadata": {},
   "source": [
    "2. Have your parser parse this new sentence. It is covered by the\n",
    "grammar, therefore the parser should be able to handle it:\n",
    "\n",
    "    (s12): Lisa and her friends told Marge that Homer punched the bully in the bar"
   ]
  },
  {
   "cell_type": "code",
   "execution_count": 7,
   "id": "5e298eb5",
   "metadata": {},
   "outputs": [
    {
     "name": "stdout",
     "output_type": "stream",
     "text": [
      "(S\n",
      "  (NP (NP (N Lisa)) (CONJ and) (NP (Det her) (N friends)))\n",
      "  (VP\n",
      "    (V told)\n",
      "    (NP\n",
      "      (NP (N Marge))\n",
      "      (CP\n",
      "        (COMP that)\n",
      "        (S (NP (N Homer)) (VP (V punched) (NP (Det the) (N bully))))))\n",
      "    (PP (P in) (NP (Det the) (N bar)))))\n",
      "(S\n",
      "  (NP (NP (N Lisa)) (CONJ and) (NP (Det her) (N friends)))\n",
      "  (VP\n",
      "    (V told)\n",
      "    (NP\n",
      "      (NP\n",
      "        (NP (N Marge))\n",
      "        (CP\n",
      "          (COMP that)\n",
      "          (S\n",
      "            (NP (N Homer))\n",
      "            (VP (V punched) (NP (Det the) (N bully))))))\n",
      "      (PP (P in) (NP (Det the) (N bar))))))\n",
      "(S\n",
      "  (NP (NP (N Lisa)) (CONJ and) (NP (Det her) (N friends)))\n",
      "  (VP\n",
      "    (V told)\n",
      "    (NP\n",
      "      (NP (N Marge))\n",
      "      (CP\n",
      "        (COMP that)\n",
      "        (S\n",
      "          (NP (N Homer))\n",
      "          (VP\n",
      "            (VP (V punched) (NP (Det the) (N bully)))\n",
      "            (PP (P in) (NP (Det the) (N bar)))))))))\n",
      "(S\n",
      "  (NP (NP (N Lisa)) (CONJ and) (NP (Det her) (N friends)))\n",
      "  (VP\n",
      "    (V told)\n",
      "    (NP\n",
      "      (NP (N Marge))\n",
      "      (CP\n",
      "        (COMP that)\n",
      "        (S\n",
      "          (NP (N Homer))\n",
      "          (VP\n",
      "            (V punched)\n",
      "            (NP (Det the) (N bully))\n",
      "            (PP (P in) (NP (Det the) (N bar)))))))))\n",
      "(S\n",
      "  (NP (NP (N Lisa)) (CONJ and) (NP (Det her) (N friends)))\n",
      "  (VP\n",
      "    (V told)\n",
      "    (NP\n",
      "      (NP (N Marge))\n",
      "      (CP\n",
      "        (COMP that)\n",
      "        (S\n",
      "          (NP (N Homer))\n",
      "          (VP\n",
      "            (V punched)\n",
      "            (NP\n",
      "              (NP (Det the) (N bully))\n",
      "              (PP (P in) (NP (Det the) (N bar))))))))))\n",
      "(S\n",
      "  (NP (NP (N Lisa)) (CONJ and) (NP (Det her) (N friends)))\n",
      "  (VP\n",
      "    (V told)\n",
      "    (NP (N Marge))\n",
      "    (CP\n",
      "      (COMP that)\n",
      "      (S\n",
      "        (NP (N Homer))\n",
      "        (VP\n",
      "          (VP (V punched) (NP (Det the) (N bully)))\n",
      "          (PP (P in) (NP (Det the) (N bar))))))))\n",
      "(S\n",
      "  (NP (NP (N Lisa)) (CONJ and) (NP (Det her) (N friends)))\n",
      "  (VP\n",
      "    (V told)\n",
      "    (NP (N Marge))\n",
      "    (CP\n",
      "      (COMP that)\n",
      "      (S\n",
      "        (NP (N Homer))\n",
      "        (VP\n",
      "          (V punched)\n",
      "          (NP (Det the) (N bully))\n",
      "          (PP (P in) (NP (Det the) (N bar))))))))\n",
      "(S\n",
      "  (NP (NP (N Lisa)) (CONJ and) (NP (Det her) (N friends)))\n",
      "  (VP\n",
      "    (V told)\n",
      "    (NP (N Marge))\n",
      "    (CP\n",
      "      (COMP that)\n",
      "      (S\n",
      "        (NP (N Homer))\n",
      "        (VP\n",
      "          (V punched)\n",
      "          (NP\n",
      "            (NP (Det the) (N bully))\n",
      "            (PP (P in) (NP (Det the) (N bar)))))))))\n",
      "(S\n",
      "  (NP (NP (N Lisa)) (CONJ and) (NP (Det her) (N friends)))\n",
      "  (VP\n",
      "    (VP\n",
      "      (V told)\n",
      "      (NP\n",
      "        (NP (N Marge))\n",
      "        (CP (COMP that) (S (NP (N Homer)) (VP (V punched)))))\n",
      "      (NP (Det the) (N bully)))\n",
      "    (PP (P in) (NP (Det the) (N bar)))))\n",
      "(S\n",
      "  (NP (NP (N Lisa)) (CONJ and) (NP (Det her) (N friends)))\n",
      "  (VP\n",
      "    (VP\n",
      "      (V told)\n",
      "      (NP (N Marge))\n",
      "      (CP\n",
      "        (COMP that)\n",
      "        (S (NP (N Homer)) (VP (V punched) (NP (Det the) (N bully))))))\n",
      "    (PP (P in) (NP (Det the) (N bar)))))\n",
      "(S\n",
      "  (NP (NP (N Lisa)) (CONJ and) (NP (Det her) (N friends)))\n",
      "  (VP\n",
      "    (VP\n",
      "      (V told)\n",
      "      (NP\n",
      "        (NP (N Marge))\n",
      "        (CP\n",
      "          (COMP that)\n",
      "          (S\n",
      "            (NP (N Homer))\n",
      "            (VP (V punched) (NP (Det the) (N bully)))))))\n",
      "    (PP (P in) (NP (Det the) (N bar)))))\n",
      "(S\n",
      "  (NP (NP (N Lisa)) (CONJ and) (NP (Det her) (N friends)))\n",
      "  (VP\n",
      "    (V told)\n",
      "    (NP\n",
      "      (NP (N Marge))\n",
      "      (CP (COMP that) (S (NP (N Homer)) (VP (V punched)))))\n",
      "    (NP (NP (Det the) (N bully)) (PP (P in) (NP (Det the) (N bar))))))\n"
     ]
    }
   ],
   "source": [
    "s12 = word_tokenize(\"Lisa and her friends told Marge that Homer punched the bully in the bar\")\n",
    "par = nltk.ChartParser(Grammar_1)\n",
    "for i in par.parse(s12):\n",
    "    print(i)"
   ]
  },
  {
   "cell_type": "markdown",
   "id": "2022a43e",
   "metadata": {},
   "source": [
    "3. Come up with a sentence of your own that's covered by grammar1 and have the parser parse it. Are you satisfied with the result?"
   ]
  },
  {
   "cell_type": "code",
   "execution_count": 8,
   "id": "02c50c7d",
   "metadata": {},
   "outputs": [
    {
     "name": "stdout",
     "output_type": "stream",
     "text": [
      "(S\n",
      "  (NP (NP (N Homer)) (CONJ and) (NP (N friends)))\n",
      "  (VP\n",
      "    (VP (V punched) (NP (Det the) (ADJ tiny) (ADJ nerdy) (N kid)))\n",
      "    (PP (P after) (NP (N school)))))\n",
      "(S\n",
      "  (NP (NP (N Homer)) (CONJ and) (NP (N friends)))\n",
      "  (VP\n",
      "    (V punched)\n",
      "    (NP (Det the) (ADJ tiny) (ADJ nerdy) (N kid))\n",
      "    (PP (P after) (NP (N school)))))\n",
      "(S\n",
      "  (NP (NP (N Homer)) (CONJ and) (NP (N friends)))\n",
      "  (VP\n",
      "    (V punched)\n",
      "    (NP\n",
      "      (NP (Det the) (ADJ tiny) (ADJ nerdy) (N kid))\n",
      "      (PP (P after) (NP (N school))))))\n"
     ]
    }
   ],
   "source": [
    "result = word_tokenize(\"Homer and friends punched the tiny nerdy kid after school\")\n",
    "par = nltk.ChartParser(Grammar_1)\n",
    "for i in par.parse(result):\n",
    " print(i)"
   ]
  },
  {
   "cell_type": "markdown",
   "id": "508db9c3",
   "metadata": {},
   "source": [
    "4. Let's revisit our first three sentences from the previous lab.\n",
    "\n",
    "    (s1): Marge will make a ham sandwich\n",
    "    \n",
    "    (s2): will Marge make a ham sandwich\n",
    "    \n",
    "    (s3): Homer ate the donut on the table\n",
    "    \n",
    "As it is, your grammar1 does not cover them. But we can extend it with the CF rules from the three\n",
    "sentences' trees. Follow the steps below.\n",
    "\n",
    "a. From the three sentence trees, create a list of all production rules in them. Turn it into a\n",
    "set, which removes all duplicates. (Hint: use set().)"
   ]
  },
  {
   "cell_type": "code",
   "execution_count": 9,
   "id": "dba9353e",
   "metadata": {},
   "outputs": [],
   "source": [
    "a_set = set()"
   ]
  },
  {
   "cell_type": "code",
   "execution_count": 10,
   "id": "438792eb",
   "metadata": {},
   "outputs": [
    {
     "data": {
      "text/plain": [
       "[S -> NP AUX VP,\n",
       " NP -> N,\n",
       " N -> 'Marge',\n",
       " AUX -> 'will',\n",
       " VP -> V NP,\n",
       " V -> 'make',\n",
       " NP -> Det N N,\n",
       " Det -> 'a',\n",
       " N -> 'ham',\n",
       " N -> 'sandwich']"
      ]
     },
     "execution_count": 10,
     "metadata": {},
     "output_type": "execute_result"
    }
   ],
   "source": [
    "s1 = Tree.fromstring('(S(NP (N Marge))(AUX will)(VP (V make) (NP (Det a) (N ham) (N sandwich))))')\n",
    "s1_r = s1.productions()\n",
    "s1_r"
   ]
  },
  {
   "cell_type": "code",
   "execution_count": 11,
   "id": "19862938",
   "metadata": {},
   "outputs": [
    {
     "data": {
      "text/plain": [
       "[S -> AUX NP VP,\n",
       " AUX -> 'will',\n",
       " NP -> N,\n",
       " N -> 'Marge',\n",
       " VP -> V NP,\n",
       " V -> 'make',\n",
       " NP -> Det N N,\n",
       " Det -> 'a',\n",
       " N -> 'ham',\n",
       " N -> 'sandwich']"
      ]
     },
     "execution_count": 11,
     "metadata": {},
     "output_type": "execute_result"
    }
   ],
   "source": [
    "s2 = Tree.fromstring('(S(AUX will)(NP (N Marge))(VP (V make) (NP (Det a) (N ham) (N sandwich))))')\n",
    "s2_r = s2.productions()\n",
    "s2_r"
   ]
  },
  {
   "cell_type": "code",
   "execution_count": 12,
   "id": "ac7cef91",
   "metadata": {},
   "outputs": [
    {
     "data": {
      "text/plain": [
       "[S -> NP VP,\n",
       " NP -> N,\n",
       " N -> 'Homer',\n",
       " VP -> V NP,\n",
       " V -> 'ate',\n",
       " NP -> NP PP,\n",
       " NP -> Det N,\n",
       " Det -> 'the',\n",
       " N -> 'donut',\n",
       " PP -> 'on' NP,\n",
       " NP -> DET N,\n",
       " DET -> 'the',\n",
       " N -> 'table']"
      ]
     },
     "execution_count": 12,
     "metadata": {},
     "output_type": "execute_result"
    }
   ],
   "source": [
    "s3 = Tree.fromstring('(S(NP (N Homer))(VP(V ate)(NP(NP (Det the) (N donut))(PP on  (NP (DET the) (N table))))))')\n",
    "s3_r = s3.productions()\n",
    "s3_r"
   ]
  },
  {
   "cell_type": "code",
   "execution_count": 13,
   "id": "eba57a2c",
   "metadata": {},
   "outputs": [],
   "source": [
    "s_1r = []\n",
    "s_1r = s1_r.copy()"
   ]
  },
  {
   "cell_type": "code",
   "execution_count": 14,
   "id": "42c5ac0e",
   "metadata": {},
   "outputs": [],
   "source": [
    "s_2r = []\n",
    "s_2r = s2_r.copy()"
   ]
  },
  {
   "cell_type": "code",
   "execution_count": 15,
   "id": "c3c9b869",
   "metadata": {},
   "outputs": [],
   "source": [
    "s_3r = []\n",
    "s_3r = s3_r.copy()"
   ]
  },
  {
   "cell_type": "code",
   "execution_count": 16,
   "id": "791bd9a2",
   "metadata": {},
   "outputs": [],
   "source": [
    "sr = []\n",
    "for i in s_1r:\n",
    "    sr.append(i)\n",
    "for i in s_2r:\n",
    "    sr.append(i)\n",
    "for i in s_3r:\n",
    "    sr.append(i)"
   ]
  },
  {
   "cell_type": "code",
   "execution_count": 17,
   "id": "8ab05136",
   "metadata": {},
   "outputs": [],
   "source": [
    "for i in sr:\n",
    "    a_set.add(i)"
   ]
  },
  {
   "cell_type": "code",
   "execution_count": 18,
   "id": "af552ceb",
   "metadata": {},
   "outputs": [
    {
     "data": {
      "text/plain": [
       "{AUX -> 'will',\n",
       " DET -> 'the',\n",
       " Det -> 'a',\n",
       " Det -> 'the',\n",
       " N -> 'Homer',\n",
       " N -> 'Marge',\n",
       " N -> 'donut',\n",
       " N -> 'ham',\n",
       " N -> 'sandwich',\n",
       " N -> 'table',\n",
       " NP -> DET N,\n",
       " NP -> Det N,\n",
       " NP -> Det N N,\n",
       " NP -> N,\n",
       " NP -> NP PP,\n",
       " PP -> 'on' NP,\n",
       " S -> AUX NP VP,\n",
       " S -> NP AUX VP,\n",
       " S -> NP VP,\n",
       " V -> 'ate',\n",
       " V -> 'make',\n",
       " VP -> V NP}"
      ]
     },
     "execution_count": 18,
     "metadata": {},
     "output_type": "execute_result"
    }
   ],
   "source": [
    "a_set"
   ]
  },
  {
   "cell_type": "code",
   "execution_count": 19,
   "id": "4a7e232d",
   "metadata": {},
   "outputs": [],
   "source": [
    "more_r = []\n",
    "more_r = list(a_set)"
   ]
  },
  {
   "cell_type": "code",
   "execution_count": 20,
   "id": "4889f50d",
   "metadata": {},
   "outputs": [
    {
     "data": {
      "text/plain": [
       "[V -> 'make',\n",
       " VP -> V NP,\n",
       " S -> AUX NP VP,\n",
       " NP -> DET N,\n",
       " N -> 'sandwich',\n",
       " NP -> Det N N,\n",
       " S -> NP AUX VP,\n",
       " DET -> 'the',\n",
       " N -> 'donut',\n",
       " S -> NP VP,\n",
       " Det -> 'the',\n",
       " N -> 'Marge',\n",
       " NP -> N,\n",
       " PP -> 'on' NP,\n",
       " V -> 'ate',\n",
       " Det -> 'a',\n",
       " AUX -> 'will',\n",
       " NP -> NP PP,\n",
       " N -> 'ham',\n",
       " N -> 'Homer',\n",
       " N -> 'table',\n",
       " NP -> Det N]"
      ]
     },
     "execution_count": 20,
     "metadata": {},
     "output_type": "execute_result"
    }
   ],
   "source": [
    "more_r"
   ]
  },
  {
   "cell_type": "markdown",
   "id": "ac524ed7",
   "metadata": {},
   "source": [
    "c. Add the additional rules to your grammar1's production rules, using the .extend() method."
   ]
  },
  {
   "cell_type": "code",
   "execution_count": 21,
   "id": "68ebbe2f",
   "metadata": {},
   "outputs": [],
   "source": [
    "Grammar_1.productions().extend(list(more_r))"
   ]
  },
  {
   "cell_type": "code",
   "execution_count": 22,
   "id": "db02c248",
   "metadata": {},
   "outputs": [],
   "source": [
    "results = word_tokenize(\"\")\n",
    "par = nltk.ChartParser(Grammar_1)\n",
    "for i in par.parse(results):\n",
    "    print(i)"
   ]
  },
  {
   "cell_type": "markdown",
   "id": "9ebb9442",
   "metadata": {},
   "source": [
    "d. And then, you have to re-initialize the grammar using the extended production rules (highlighted part). An illustration:"
   ]
  },
  {
   "cell_type": "code",
   "execution_count": 23,
   "id": "6f2332ce",
   "metadata": {},
   "outputs": [],
   "source": [
    "grammar3 = nltk.CFG.fromstring(\"\"\" \n",
    "S -> NP VP\n",
    "NP -> N\n",
    "VP -> V\n",
    "N -> 'Homer'\n",
    "V -> 'sleeps'\n",
    "\"\"\")"
   ]
  },
  {
   "cell_type": "code",
   "execution_count": 24,
   "id": "ba4ac983",
   "metadata": {},
   "outputs": [
    {
     "name": "stdout",
     "output_type": "stream",
     "text": [
      "Grammar with 5 productions (start state = S)\n",
      "    S -> NP VP\n",
      "    NP -> N\n",
      "    VP -> V\n",
      "    N -> 'Homer'\n",
      "    V -> 'sleeps'\n"
     ]
    }
   ],
   "source": [
    "print(grammar3)"
   ]
  },
  {
   "cell_type": "code",
   "execution_count": 25,
   "id": "80ada1fd",
   "metadata": {},
   "outputs": [
    {
     "data": {
      "text/plain": [
       "[V -> 'make',\n",
       " VP -> V NP,\n",
       " S -> AUX NP VP,\n",
       " NP -> DET N,\n",
       " N -> 'sandwich',\n",
       " NP -> Det N N,\n",
       " S -> NP AUX VP,\n",
       " DET -> 'the',\n",
       " N -> 'donut',\n",
       " S -> NP VP,\n",
       " Det -> 'the',\n",
       " N -> 'Marge',\n",
       " NP -> N,\n",
       " PP -> 'on' NP,\n",
       " V -> 'ate',\n",
       " Det -> 'a',\n",
       " AUX -> 'will',\n",
       " NP -> NP PP,\n",
       " N -> 'ham',\n",
       " N -> 'Homer',\n",
       " N -> 'table',\n",
       " NP -> Det N]"
      ]
     },
     "execution_count": 25,
     "metadata": {},
     "output_type": "execute_result"
    }
   ],
   "source": [
    "more_r"
   ]
  },
  {
   "cell_type": "markdown",
   "id": "4b9111e9",
   "metadata": {},
   "source": [
    "e. Now, rebuild your chart parser with the updated grammar1. And try parsing the three sentences. It should successfully parse them."
   ]
  },
  {
   "cell_type": "code",
   "execution_count": 26,
   "id": "328b0a65",
   "metadata": {},
   "outputs": [
    {
     "name": "stdout",
     "output_type": "stream",
     "text": [
      "Grammar with 27 productions (start state = S)\n",
      "    S -> NP VP\n",
      "    NP -> N\n",
      "    VP -> V\n",
      "    N -> 'Homer'\n",
      "    V -> 'sleeps'\n",
      "    V -> 'make'\n",
      "    VP -> V NP\n",
      "    S -> AUX NP VP\n",
      "    NP -> DET N\n",
      "    N -> 'sandwich'\n",
      "    NP -> Det N N\n",
      "    S -> NP AUX VP\n",
      "    DET -> 'the'\n",
      "    N -> 'donut'\n",
      "    S -> NP VP\n",
      "    Det -> 'the'\n",
      "    N -> 'Marge'\n",
      "    NP -> N\n",
      "    PP -> 'on' NP\n",
      "    V -> 'ate'\n",
      "    Det -> 'a'\n",
      "    AUX -> 'will'\n",
      "    NP -> NP PP\n",
      "    N -> 'ham'\n",
      "    N -> 'Homer'\n",
      "    N -> 'table'\n",
      "    NP -> Det N\n"
     ]
    }
   ],
   "source": [
    "grammar3.productions().extend(more_r)\n",
    "grammer3 = nltk.grammar.CFG(grammar3.start(), grammar3.productions())\n",
    "print(grammer3)"
   ]
  },
  {
   "cell_type": "markdown",
   "id": "91501f69",
   "metadata": {},
   "source": [
    "5. Try parsing another sentence of your own that is covered by the\n",
    "newly extended grammar1. Are you satisfied with the result?. Also,\n",
    "compare the result with other parsers – Recursive Descent Parser and\n",
    "Shift Reduce Parser."
   ]
  },
  {
   "cell_type": "code",
   "execution_count": 27,
   "id": "ad547eea",
   "metadata": {},
   "outputs": [],
   "source": [
    "Grammar_1 = nltk.CFG.fromstring(\"\"\"\n",
    "S -> NP VP | NP VP \n",
    "NP -> N | Det N | PRO | N N \n",
    "VP -> V NP CP | VP ADVP | V NP \n",
    "ADVP -> ADV ADV \n",
    "CP -> COMP S \n",
    "N -> 'Lisa' | 'brother' | 'peanut' | 'butter' \n",
    "V -> 'told' | 'liked' \n",
    "COMP -> 'that' \n",
    "Det -> 'her' \n",
    "PRO -> 'she' \n",
    "ADV -> 'very' | 'much'\n",
    "S -> NP VP \n",
    "NP -> NP CONJ NP | N | NP PP | Det N | N | Det N \n",
    "VP -> VP PP | VP CONJ VP | V | V \n",
    "PP -> P NP | P NP \n",
    "N -> 'Homer' | 'friends' | 'work' | 'bar' \n",
    "V -> 'drank' | 'sang' \n",
    "CONJ -> 'and' | 'and'\n",
    "Det -> 'his' | 'the'\n",
    "P -> 'from' | 'in'\n",
    "S -> NP VP \n",
    "NP -> NP CONJ NP | N | N \n",
    "VP -> V ADJP \n",
    "ADJP -> ADJP CONJ ADJP | ADJ | ADV ADJ \n",
    "N -> 'Homer' | 'Marge' \n",
    "V -> 'are' \n",
    "CONJ -> 'and' | 'but'\n",
    "ADJ -> 'poor' | 'happy'\n",
    "ADV -> 'very'\n",
    "S -> NP VP | NP AUX VP \n",
    "NP -> PRO | NP CP | Det N | PRO | PRO | PRO | N |Det N\n",
    "VP -> V NP PP | V NP NP\n",
    "CP -> COMP S\n",
    "PP -> P NP \n",
    "Det -> 'the' | 'his' \n",
    "PRO -> 'he' | 'I' | 'him' \n",
    "N -> 'book' | 't' | 'sister' \n",
    "V -> 'gave' | 'given' \n",
    "COMP -> 'that'\n",
    "AUX -> 'had' \n",
    "P -> 'to'\n",
    "S -> NP VP\n",
    "NP -> PRO | Det N | Det N\n",
    "VP -> V NP PP\n",
    "PP -> P NP \n",
    "Det -> 'the' | 'his'\n",
    "PRO -> 'he' \n",
    "N -> 'book' | 'sister' \n",
    "V -> 'gave' \n",
    "P -> 'to'\n",
    "S -> NP VP\n",
    "NP -> Det ADJ N | Det ADJ ADJ N | N\n",
    "VP -> V NP|VP PP\n",
    "PP -> P NP \n",
    "Det -> 'the' | 'the'\n",
    "ADJ -> 'big' | 'tiny' | 'nerdy'\n",
    "N -> 'bully' | 'kid' | 'school'\n",
    "V -> 'punched'\n",
    "P -> 'after'\n",
    "S -> NP AUX VP\n",
    "NP -> N | Det N N\n",
    "VP -> V NP\n",
    "N -> 'Marge' | 'ham' | 'sandwich'\n",
    "AUX -> 'will'\n",
    "V -> 'make'\n",
    "Det -> 'a'\n",
    "S -> AUX NP VP\n",
    "NP -> N | Det N N \n",
    "VP -> V NP\n",
    "N -> 'Marge'\n",
    "V -> 'make'\n",
    "AUX -> 'will'\n",
    "Det -> 'a'\n",
    "N -> 'Marge' | 'ham' | 'sandwich'\n",
    "S -> NP VP\n",
    "NP -> N | NP PP | Det N | Det N\n",
    "PP -> P NP\n",
    "VP -> V NP\n",
    "N -> 'Homer' | 'donut' | 'table'\n",
    "V -> 'ate'\n",
    "Det -> 'the' | 'the'\n",
    "P -> 'on'\n",
    "\"\"\")"
   ]
  },
  {
   "cell_type": "code",
   "execution_count": 28,
   "id": "81a8159e",
   "metadata": {},
   "outputs": [
    {
     "name": "stdout",
     "output_type": "stream",
     "text": [
      "(S\n",
      "  (AUX will)\n",
      "  (NP (N Marge))\n",
      "  (VP (V make) (NP (Det a) (N ham) (N sandwich))))\n",
      "(S\n",
      "  (AUX will)\n",
      "  (NP (N Marge))\n",
      "  (VP (V make) (NP (Det a) (N ham)) (NP (N sandwich))))\n"
     ]
    }
   ],
   "source": [
    "sent = word_tokenize(\"will Marge make a ham sandwich\")\n",
    "par = nltk.ChartParser(Grammar_1)\n",
    "for i in par.parse(sent):\n",
    "    print(i)"
   ]
  },
  {
   "cell_type": "markdown",
   "id": "de510e7a",
   "metadata": {},
   "source": [
    "5. Try parsing another sentence of your own that is covered by the\n",
    "newly extended grammar1. Are you satisfied with the result?. Also,compare the result with other parsers – Recursive Descent Parser and\n",
    "Shift Reduce Parser."
   ]
  },
  {
   "cell_type": "code",
   "execution_count": 29,
   "id": "7478eeeb",
   "metadata": {},
   "outputs": [],
   "source": [
    "#sen = word_tokenize(\"will Marge make a ham sandwich\")\n",
    "#rd_par = nltk.RecursiveDescentParser(Grammar_1)\n",
    "#for tree in rd_par.parse(sen):\n",
    "#print(tree)"
   ]
  },
  {
   "cell_type": "code",
   "execution_count": 30,
   "id": "1ab8fba8",
   "metadata": {},
   "outputs": [],
   "source": [
    "#sent = word_tokenize(\"will Marge make a ham sandwich\")\n",
    "#sr_par = nltk.ShiftReduceParser(Grammar_1)\n",
    "#for tree in rd_par.parse(sent):\n",
    " #print(tree)"
   ]
  },
  {
   "cell_type": "markdown",
   "id": "562ab602",
   "metadata": {},
   "source": [
    "6. As the final step, pickle your grammar1 as lab12_grammar.pkl."
   ]
  },
  {
   "cell_type": "code",
   "execution_count": 31,
   "id": "616c3c9d",
   "metadata": {},
   "outputs": [],
   "source": [
    "import pickle\n",
    "with open('lab12_grammar.pkl', 'wb') as f:\n",
    "    pickle.dump(Grammar_1, f)"
   ]
  },
  {
   "cell_type": "code",
   "execution_count": null,
   "id": "4fc76a2b",
   "metadata": {},
   "outputs": [],
   "source": []
  }
 ],
 "metadata": {
  "kernelspec": {
   "display_name": "Python 3 (ipykernel)",
   "language": "python",
   "name": "python3"
  },
  "language_info": {
   "codemirror_mode": {
    "name": "ipython",
    "version": 3
   },
   "file_extension": ".py",
   "mimetype": "text/x-python",
   "name": "python",
   "nbconvert_exporter": "python",
   "pygments_lexer": "ipython3",
   "version": "3.9.13"
  }
 },
 "nbformat": 4,
 "nbformat_minor": 5
}
